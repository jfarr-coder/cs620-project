{
 "cells": [
  {
   "cell_type": "code",
   "execution_count": 14,
   "id": "390cfb2c",
   "metadata": {},
   "outputs": [
    {
     "name": "stdout",
     "output_type": "stream",
     "text": [
      "MALE PARTICIPANTS\n",
      "    participant gender  age education       language  crt1  crt2  crt3  nfm1  \\\n",
      "13           14      m   19    Abitur  Muttersprache  2.25   2.0  47.0     7   \n",
      "4             5      m   23  Bachelor  Muttersprache  3.25   2.0  47.0     7   \n",
      "18           20      m   24    Abitur             C2  2.25   2.0  15.0     3   \n",
      "5             6      m   26    Master  Muttersprache  2.25   2.0  47.0     8   \n",
      "3             4      m   28    Master  Muttersprache  3.25   2.0  47.0     7   \n",
      "\n",
      "    nfm2  nfm3  nfm4  po  \n",
      "13     6     8     3   8  \n",
      "4      9     3     4   5  \n",
      "18     8     1     1   3  \n",
      "5      3     6     1   5  \n",
      "3      2     2     1   4  \n",
      "FEMALE PARTICIPANTS\n",
      "    participant gender  age education       language  crt1  crt2  crt3  nfm1  \\\n",
      "20           22      f   19    Abitur  Muttersprache  2.25   2.0  12.0     3   \n",
      "7             8      f   21    Abitur  Muttersprache  2.25   2.0  47.0     2   \n",
      "9            10      f   21    Abitur  Muttersprache  1.75   2.0  12.0     1   \n",
      "10           11      f   21    Abitur  Muttersprache  2.25   2.0  47.0     7   \n",
      "15           16      f   21    Abitur  Muttersprache  2.25   2.0  47.0     5   \n",
      "\n",
      "    nfm2  nfm3  nfm4  po  \n",
      "20     4     2     2   5  \n",
      "7      5     3     2   4  \n",
      "9      4     9     1   3  \n",
      "10     3     2     1   3  \n",
      "15     6     7     3   2  \n",
      "BACHELOR PARTICIPANTS\n",
      "    participant gender  age education       language  crt1   crt2  crt3  nfm1  \\\n",
      "4             5      m   23  Bachelor  Muttersprache  3.25    2.0  47.0     7   \n",
      "22           24      f   23  Bachelor  Muttersprache  1.50    2.0  12.0     2   \n",
      "12           13      f   24  Bachelor  Muttersprache  2.25    2.0  47.0     6   \n",
      "24           27      f   24  Bachelor  Muttersprache  2.25  200.0  47.0     8   \n",
      "8             9      f   26  Bachelor  Muttersprache  2.00    2.0  47.0     5   \n",
      "\n",
      "    nfm2  nfm3  nfm4  po  \n",
      "4      9     3     4   5  \n",
      "22     6     4     1   3  \n",
      "12     3     3     2   4  \n",
      "24     4     6     1   2  \n",
      "8      3     3     2   3  \n",
      "MASTER PARTICIPANTS\n",
      "   participant gender  age education       language  crt1  crt2  crt3  nfm1  \\\n",
      "5            6      m   26    Master  Muttersprache  2.25   2.0  47.0     8   \n",
      "3            4      m   28    Master  Muttersprache  3.25   2.0  47.0     7   \n",
      "0            1      m   29    Master  Muttersprache  2.50   2.0  47.0     6   \n",
      "2            3      m   29    Master  Muttersprache  2.25   2.0  47.0     5   \n",
      "6            7      m   31    Master  Muttersprache  2.25   2.0  47.0     8   \n",
      "\n",
      "   nfm2  nfm3  nfm4  po  \n",
      "5     3     6     1   5  \n",
      "3     2     2     1   4  \n",
      "0     7     2     1   3  \n",
      "2     3     4     1   2  \n",
      "6     7     9     4   4  \n"
     ]
    },
    {
     "data": {
      "image/png": "[encoded data removed]",
      "text/plain": [
       "<Figure size 432x288 with 1 Axes>"
      ]
     },
     "metadata": {},
     "output_type": "display_data"
    }
   ],
   "source": [
    "from pandas import Series, DataFrame\n",
    "import pandas as pd\n",
    "import random\n",
    "import numpy as np\n",
    "import seaborn as sns\n",
    "\n",
    "if __name__==\"__main__\":\n",
    "    questionnaire_result = pd.read_csv(\"./datasets/D1-Questionnaire.csv\")\n",
    "    cleaned_data=questionnaire_result.dropna()\n",
    "    sns.set_theme(style=\"whitegrid\")\n",
    "    male_participants=cleaned_data[(cleaned_data['gender']=='m')]\n",
    "    male_participants=male_participants.sort_values(by=['age'])\n",
    "    print(\"MALE PARTICIPANTS\")\n",
    "    print(male_participants.head())\n",
    "    female_participants=cleaned_data[(cleaned_data['gender']=='f')]\n",
    "    female_participants=female_participants.sort_values(by=['age'])\n",
    "    print(\"FEMALE PARTICIPANTS\")\n",
    "    print(female_participants.head())\n",
    "    bachelor_participants=cleaned_data[(cleaned_data['education']=='Bachelor')]\n",
    "    bachelor_participants=bachelor_participants.sort_values(by=['age'])\n",
    "    print(\"BACHELOR PARTICIPANTS\")\n",
    "    print(bachelor_participants.head())\n",
    "    master_participants=cleaned_data[(cleaned_data['education']=='Master')]\n",
    "    master_participants=master_participants.sort_values(by=['age'])\n",
    "    print(\"MASTER PARTICIPANTS\")\n",
    "    print(master_participants.head())\n",
    "    h = sns.violinplot(data=master_participants['crt1'])"
   ]
  },
  {
   "cell_type": "code",
   "execution_count": null,
   "id": "08ccece0",
   "metadata": {},
   "outputs": [],
   "source": []
  }
 ],
 "metadata": {
  "kernelspec": {
   "display_name": "Python 3 (ipykernel)",
   "language": "python",
   "name": "python3"
  },
  "language_info": {
   "codemirror_mode": {
    "name": "ipython",
    "version": 3
   },
   "file_extension": ".py",
   "mimetype": "text/x-python",
   "name": "python",
   "nbconvert_exporter": "python",
   "pygments_lexer": "ipython3",
   "version": "3.8.5"
  }
 },
 "nbformat": 4,
 "nbformat_minor": 5
}
